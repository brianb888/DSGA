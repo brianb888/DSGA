{
 "cells": [
  {
   "cell_type": "markdown",
   "metadata": {},
   "source": [
    "## If-Elif-Else:  Basic\n",
    "\n",
    "**Important**:  This notebook is designed for people who are not confident they have the basic python syntax down yet.  It's meant to give students a gentle, piecemeal approach towards getting themselves up and running.\n",
    "\n",
    "If you are already comfortable with this material, it's best to use the other notebook provided, which uses more varied prompts."
   ]
  },
  {
   "cell_type": "markdown",
   "metadata": {},
   "source": [
    "**Step 1:**  Create an if-statement that evaluates to True and prints one line as a confirmation.  "
   ]
  },
  {
   "cell_type": "code",
   "execution_count": 5,
   "metadata": {},
   "outputs": [
    {
     "name": "stdout",
     "output_type": "stream",
     "text": [
      "This is true\n"
     ]
    }
   ],
   "source": [
    "x = 12\n",
    "if x > 10:\n",
    "    print(\"This is true\")"
   ]
  },
  {
   "cell_type": "markdown",
   "metadata": {},
   "source": [
    "**Step 2:**  \n",
    " - Make it evaluate to False, just to make sure it works\n",
    " - Add additional lines of output if something evaluates to True"
   ]
  },
  {
   "cell_type": "code",
   "execution_count": 9,
   "metadata": {},
   "outputs": [
    {
     "name": "stdout",
     "output_type": "stream",
     "text": [
      "X is less than 10\n"
     ]
    }
   ],
   "source": [
    "x = 8\n",
    "if x > 10:\n",
    "    print(\"This is true\")\n",
    "elif x < 10:\n",
    "    print(\"X is less than 10\")"
   ]
  },
  {
   "cell_type": "markdown",
   "metadata": {},
   "source": [
    "**Step 3:** Add an 'else' statement to your code, and check to make sure it evaluates correctly."
   ]
  },
  {
   "cell_type": "code",
   "execution_count": 20,
   "metadata": {
    "scrolled": false
   },
   "outputs": [
    {
     "name": "stdout",
     "output_type": "stream",
     "text": [
      "X is neither greater than nor less than 8\n"
     ]
    }
   ],
   "source": [
    "x = 9\n",
    "if x > 10:\n",
    "    print(\"This is true\")\n",
    "elif x < 8:\n",
    "    print(\"X is less than 10\")\n",
    "else: print(\"X is neither greater than nor less than 8\")"
   ]
  },
  {
   "cell_type": "markdown",
   "metadata": {},
   "source": [
    "**Step 4:**  Add an `elif` block inbetween the `if/else` and test the following:\n",
    "\n",
    " - The statement evaluates the way you would expect if only the `if` statement was True\n",
    " - The statement evaluates the way you would expect if only the `elif` statement was True\n",
    " - Check to see what happens if **both** the `if` and `elif` statements are True."
   ]
  },
  {
   "cell_type": "code",
   "execution_count": null,
   "metadata": {},
   "outputs": [],
   "source": [
    "x = 9\n",
    "if x > 10:\n",
    "    print(\"This is true\")\n",
    "elif x < 8:\n",
    "    print(\"X is less than 10\")\n",
    "else: print(\"X is neither greater than nor less than 8\")"
   ]
  },
  {
   "cell_type": "markdown",
   "metadata": {},
   "source": [
    "**Step 5:** Add a nested `if` statement inside your previous code block.  \n",
    "\n",
    "For example, setup it up so that it reads something like this:\n",
    "\n",
    "`if True:\n",
    "    if True:\n",
    "        then do this\n",
    "    else:\n",
    "        then do that\n",
    " elif ....`\n",
    " \n",
    " And so on."
   ]
  },
  {
   "cell_type": "code",
   "execution_count": 29,
   "metadata": {},
   "outputs": [
    {
     "name": "stdout",
     "output_type": "stream",
     "text": [
      "x is less than 1\n"
     ]
    }
   ],
   "source": [
    "x = 0\n",
    "if x > 1:\n",
    "    if x > 20:\n",
    "        print(\"x is greater than 20\")\n",
    "    else: print(\"x is less than 20 but greater than 1\")\n",
    "elif x <1:\n",
    "    print(\"x is less than 1\")"
   ]
  },
  {
   "cell_type": "code",
   "execution_count": 31,
   "metadata": {},
   "outputs": [],
   "source": [
    "the_list = [1, 2, 'this', 'that']"
   ]
  },
  {
   "cell_type": "code",
   "execution_count": 32,
   "metadata": {},
   "outputs": [
    {
     "data": {
      "text/plain": [
       "[1, 2, 'this', 'that']"
      ]
     },
     "execution_count": 32,
     "metadata": {},
     "output_type": "execute_result"
    }
   ],
   "source": [
    "the_list"
   ]
  },
  {
   "cell_type": "code",
   "execution_count": 33,
   "metadata": {},
   "outputs": [
    {
     "data": {
      "text/plain": [
       "list"
      ]
     },
     "execution_count": 33,
     "metadata": {},
     "output_type": "execute_result"
    }
   ],
   "source": [
    "type(the_list)"
   ]
  },
  {
   "cell_type": "code",
   "execution_count": 37,
   "metadata": {},
   "outputs": [
    {
     "name": "stdout",
     "output_type": "stream",
     "text": [
      "1\n",
      "2\n",
      "this\n",
      "this  is a string\n",
      "that\n",
      "that  is a string\n",
      "Bye\n"
     ]
    }
   ],
   "source": [
    "for item in the_list:\n",
    "    print(item)\n",
    "    if type(item) == str:\n",
    "        print(item, \" is a string\")\n",
    "\n",
    "print(\"Bye\")"
   ]
  },
  {
   "cell_type": "code",
   "execution_count": null,
   "metadata": {},
   "outputs": [],
   "source": []
  }
 ],
 "metadata": {
  "kernelspec": {
   "display_name": "Python 3",
   "language": "python",
   "name": "python3"
  },
  "language_info": {
   "codemirror_mode": {
    "name": "ipython",
    "version": 3
   },
   "file_extension": ".py",
   "mimetype": "text/x-python",
   "name": "python",
   "nbconvert_exporter": "python",
   "pygments_lexer": "ipython3",
   "version": "3.7.4"
  }
 },
 "nbformat": 4,
 "nbformat_minor": 2
}
